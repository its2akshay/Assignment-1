{
 "cells": [
  {
   "attachments": {},
   "cell_type": "raw",
   "id": "84f1920d",
   "metadata": {},
   "source": [
    "1. In the below elements which of them are values or an expression? eg:- values can be\n",
    "integer or string and expressions will be mathematical operators.\n",
    "*\n",
    "'hello'\n",
    "-87.8\n",
    "-\n",
    "/\n",
    "+\n",
    "6"
   ]
  },
  {
   "cell_type": "raw",
   "id": "fdbcf410",
   "metadata": {},
   "source": [
    "Values: 'hello', -87.8, 6\n",
    "Expressions: *, -, /, +"
   ]
  },
  {
   "cell_type": "raw",
   "id": "9becb1dd",
   "metadata": {},
   "source": [
    "2. What is the difference between string and variable?"
   ]
  },
  {
   "cell_type": "raw",
   "id": "5a9dd2d5",
   "metadata": {},
   "source": [
    "String is a type of data and variable is a storage location"
   ]
  },
  {
   "cell_type": "raw",
   "id": "cf831508",
   "metadata": {},
   "source": [
    "3. Describe three different data types."
   ]
  },
  {
   "cell_type": "raw",
   "id": "2ba85249",
   "metadata": {},
   "source": [
    "Integers: They are whole numbers \n",
    "Lists: They are collection of data inside square breackets and are mutable (e.g., [23, 'str', 4234, 78.90]\n",
    "Boolean: They return True or false "
   ]
  },
  {
   "cell_type": "raw",
   "id": "5caffdfc",
   "metadata": {},
   "source": [
    "4. What is an expression made up of? What do all expressions do?"
   ]
  },
  {
   "cell_type": "raw",
   "id": "2daab89d",
   "metadata": {},
   "source": [
    "Expression is made up of values, operators and variables. It produces a result"
   ]
  },
  {
   "cell_type": "raw",
   "id": "7c323fd9",
   "metadata": {},
   "source": [
    "5. This assignment statements, like spam = 10. What is the difference between an\n",
    "expression and a statement?"
   ]
  },
  {
   "cell_type": "raw",
   "id": "259fb01b",
   "metadata": {},
   "source": [
    "Expression is made up of values, operators and variables that produces a result.\n",
    "A statement is a line of instruction that the python executes (e.g., assignment statement)"
   ]
  },
  {
   "cell_type": "raw",
   "id": "c7c26851",
   "metadata": {},
   "source": [
    "6. After running the following code, what does the variable bacon contain?\n",
    "bacon = 22\n",
    "bacon + 1"
   ]
  },
  {
   "cell_type": "raw",
   "id": "7b433220",
   "metadata": {},
   "source": [
    "Thus bacon = 23"
   ]
  },
  {
   "cell_type": "raw",
   "id": "a937bafd",
   "metadata": {},
   "source": [
    "7. What should the values of the following two terms be?\n",
    "'spam' + 'spamspam'\n",
    "'spam' * 3"
   ]
  },
  {
   "cell_type": "raw",
   "id": "05c36a16",
   "metadata": {},
   "source": [
    "Both the terms returns the same value 'spamspamspam'"
   ]
  },
  {
   "cell_type": "raw",
   "id": "164cbdea",
   "metadata": {},
   "source": [
    "8. Why is eggs a valid variable name while 100 is invalid?"
   ]
  },
  {
   "cell_type": "raw",
   "id": "d1298e05",
   "metadata": {},
   "source": [
    "Python does not allow variable names to start with numbers "
   ]
  },
  {
   "cell_type": "raw",
   "id": "bca8606e",
   "metadata": {},
   "source": [
    "9. What three functions can be used to get the integer, floating-point number, or string\n",
    "version of a value?"
   ]
  },
  {
   "cell_type": "raw",
   "id": "3040b977",
   "metadata": {},
   "source": [
    "Type casting functions such as int(), float() and str() can be used respectively "
   ]
  },
  {
   "cell_type": "raw",
   "id": "fb5d507c",
   "metadata": {},
   "source": [
    "10. Why does this expression cause an error? How can you fix it?\n",
    "'I have eaten'+ 99 + 'burritos'"
   ]
  },
  {
   "cell_type": "raw",
   "id": "b3e7a5d5",
   "metadata": {},
   "source": [
    "Because a string type element cannot be concatenated with a integer type element \n",
    "we can fix the issue by type casting the int to str and then concatenate the elements"
   ]
  }
 ],
 "metadata": {
  "kernelspec": {
   "display_name": "Python 3 (ipykernel)",
   "language": "python",
   "name": "python3"
  },
  "language_info": {
   "codemirror_mode": {
    "name": "ipython",
    "version": 3
   },
   "file_extension": ".py",
   "mimetype": "text/x-python",
   "name": "python",
   "nbconvert_exporter": "python",
   "pygments_lexer": "ipython3",
   "version": "3.9.7"
  }
 },
 "nbformat": 4,
 "nbformat_minor": 5
}
