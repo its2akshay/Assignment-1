{
 "cells": [
  {
   "cell_type": "code",
   "execution_count": null,
   "id": "40aa4cef",
   "metadata": {},
   "outputs": [],
   "source": [
    "1. In the below elements which of them are values or an expression? eg:- values can be\n",
    "integer or string and expressions will be mathematical operators.\n",
    "*\n",
    "'hello'\n",
    "-87.8\n",
    "-\n",
    "/\n",
    "+\n",
    "6"
   ]
  },
  {
   "cell_type": "code",
   "execution_count": null,
   "id": "a641c5b0",
   "metadata": {},
   "outputs": [],
   "source": [
    "Values: 'hello', -87.8, 6\n",
    "Expressions: *, -, /, +"
   ]
  },
  {
   "cell_type": "code",
   "execution_count": null,
   "id": "48f6a22a",
   "metadata": {},
   "outputs": [],
   "source": [
    "2. What is the difference between string and variable?"
   ]
  },
  {
   "cell_type": "code",
   "execution_count": null,
   "id": "9f7be655",
   "metadata": {},
   "outputs": [],
   "source": [
    "String is a type of data and variable is a storage location"
   ]
  },
  {
   "cell_type": "code",
   "execution_count": null,
   "id": "27301601",
   "metadata": {},
   "outputs": [],
   "source": [
    "3. Describe three different data types."
   ]
  },
  {
   "cell_type": "code",
   "execution_count": null,
   "id": "bb1dcaca",
   "metadata": {},
   "outputs": [],
   "source": [
    "Integers: They are whole numbers \n",
    "Lists: They are collection of data inside square breackets and are mutable (e.g., [23, 'str', 4234, 78.90]\n",
    "Boolean: They return True or false "
   ]
  },
  {
   "cell_type": "code",
   "execution_count": null,
   "id": "bf0c8923",
   "metadata": {},
   "outputs": [],
   "source": [
    "4. What is an expression made up of? What do all expressions do?"
   ]
  },
  {
   "cell_type": "code",
   "execution_count": null,
   "id": "c864f2eb",
   "metadata": {},
   "outputs": [],
   "source": [
    "Expression is made up of values, operators and variables. It produces a result"
   ]
  },
  {
   "cell_type": "code",
   "execution_count": null,
   "id": "9e0f8533",
   "metadata": {},
   "outputs": [],
   "source": [
    "5. This assignment statements, like spam = 10. What is the difference between an\n",
    "expression and a statement?"
   ]
  },
  {
   "cell_type": "code",
   "execution_count": null,
   "id": "869ff06f",
   "metadata": {},
   "outputs": [],
   "source": [
    "Expression is made up of values, operators and variables that produces a result.\n",
    "A statement is a line of instruction that the python executes (e.g., assignment statement)"
   ]
  },
  {
   "cell_type": "code",
   "execution_count": null,
   "id": "4cef989e",
   "metadata": {},
   "outputs": [],
   "source": [
    "6. After running the following code, what does the variable bacon contain?\n",
    "bacon = 22\n",
    "bacon + 1"
   ]
  },
  {
   "cell_type": "code",
   "execution_count": null,
   "id": "a5369f62",
   "metadata": {},
   "outputs": [],
   "source": [
    "Thus bacon = 23"
   ]
  },
  {
   "cell_type": "code",
   "execution_count": null,
   "id": "b7dcc5fb",
   "metadata": {},
   "outputs": [],
   "source": [
    "7. What should the values of the following two terms be?\n",
    "'spam' + 'spamspam'\n",
    "'spam' * 3"
   ]
  },
  {
   "cell_type": "code",
   "execution_count": null,
   "id": "45100042",
   "metadata": {},
   "outputs": [],
   "source": [
    "Both the terms returns the same value 'spamspamspam'"
   ]
  },
  {
   "cell_type": "code",
   "execution_count": null,
   "id": "16f4a0c1",
   "metadata": {},
   "outputs": [],
   "source": [
    "8. Why is eggs a valid variable name while 100 is invalid?"
   ]
  },
  {
   "cell_type": "code",
   "execution_count": null,
   "id": "ef51b948",
   "metadata": {},
   "outputs": [],
   "source": [
    "Python does not allow variable names to start with numbers "
   ]
  },
  {
   "cell_type": "code",
   "execution_count": null,
   "id": "be6493b6",
   "metadata": {},
   "outputs": [],
   "source": [
    "9. What three functions can be used to get the integer, floating-point number, or string\n",
    "version of a value?"
   ]
  },
  {
   "cell_type": "code",
   "execution_count": null,
   "id": "2a92110b",
   "metadata": {},
   "outputs": [],
   "source": [
    "Type casting functions such as int(), float() and str() can be used respectively "
   ]
  },
  {
   "cell_type": "code",
   "execution_count": null,
   "id": "b03d536e",
   "metadata": {},
   "outputs": [],
   "source": [
    "10. Why does this expression cause an error? How can you fix it?\n",
    "'I have eaten'+ 99 + 'burritos'"
   ]
  },
  {
   "cell_type": "code",
   "execution_count": null,
   "id": "8bf37bcf",
   "metadata": {},
   "outputs": [],
   "source": [
    "Because a string type element cannot be concatenated with a integer type element \n",
    "we can fix the issue by type casting the int to str and then concatenate the elements"
   ]
  }
 ],
 "metadata": {
  "kernelspec": {
   "display_name": "Python 3 (ipykernel)",
   "language": "python",
   "name": "python3"
  },
  "language_info": {
   "codemirror_mode": {
    "name": "ipython",
    "version": 3
   },
   "file_extension": ".py",
   "mimetype": "text/x-python",
   "name": "python",
   "nbconvert_exporter": "python",
   "pygments_lexer": "ipython3",
   "version": "3.9.7"
  }
 },
 "nbformat": 4,
 "nbformat_minor": 5
}
